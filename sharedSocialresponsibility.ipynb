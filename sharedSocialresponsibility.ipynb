{
 "cells": [
  {
   "cell_type": "markdown",
   "metadata": {},
   "source": [
    "# Shared Social Responsibility: Yellow Group 2\n",
    "\n",
    "### Group Members: \n",
    "Aman, Nivan Vora, Gabriel Andaya, Menji Wei\n",
    "\n",
    "### Subject: \n",
    "Shared Social Responsibility - A Field Experiment on Pricing Strategies in an Amusement Park\n",
    "\n",
    "### Introduction:\n",
    "The amusement park industry constantly seeks innovative ways to maximize revenue while enhancing customer engagement. In this context, our company conducted a field experiment at an amusement park, investigating how different pricing strategies for photographs sold after a roller coaster ride affect consumer behavior and sales. The photos, taken during the ride, were offered under four distinct pricing conditions: a flat-rate price, a flat-rate price with a charitable donation component, a name-your-own-price (NYOP) model, and an NYOP model with a charitable component. These strategies were designed to explore how consumers respond to fixed and flexible pricing models, and whether introducing a charitable cause influences purchasing decisions.\n",
    "\n",
    "The charitable partner for this experiment was a nationally recognized patient-support foundation, adding a social responsibility component to two of the pricing conditions. The goal was to assess not only the profitability of each strategy but also the broader societal impact, considering both the amusement park's profits and the contributions to charity."
   ]
  },
  {
   "cell_type": "markdown",
   "metadata": {},
   "source": [
    "# Analysis\n"
   ]
  },
  {
   "cell_type": "markdown",
   "metadata": {},
   "source": [
    "### Flat Rate Pricing\n",
    "\n",
    "Here, we are using the \"Sales.csv\" Dataset: This dataset contains the number of photos sold, the number of riders, and the total merchandise revenues for each of the four conditions. Each condition was in place for 2 days (two rows of data) except for the last condition, NYOP Charity, which was in place for 3 days.\n",
    "\n",
    "It has the following variables: \n",
    "1. Condition = A factor with four levels, matching each of the possibilities described above: FR, FR Charity, NYOP, and NYOP Charity\n",
    "2. NumberSold = The total number of photos purchased by consumers on a given day under the condition described\n",
    "3. Riders = The total number of riders placed into the condition on a given day under the condition described\n",
    "4. MerchandiseRevenues = Ancillary revenues related to merchandise purchased by riders at a location adjacent to the ride. Revenues are in US dollars."
   ]
  },
  {
   "cell_type": "code",
   "execution_count": 1,
   "metadata": {},
   "outputs": [],
   "source": [
    "# Importing the libraries\n",
    "import pandas as pd\n",
    "import numpy as np\n",
    "import pyrsm as rsm\n",
    "from scipy.stats import norm\n",
    "import matplotlib.pyplot as plt\n",
    "import seaborn as sns\n"
   ]
  },
  {
   "cell_type": "code",
   "execution_count": 3,
   "metadata": {},
   "outputs": [],
   "source": [
    "# Importing the dataset\n",
    "df1=pd.read_csv('data/Sales.csv')"
   ]
  },
  {
   "cell_type": "code",
   "execution_count": 4,
   "metadata": {},
   "outputs": [
    {
     "name": "stdout",
     "output_type": "stream",
     "text": [
      "            TotalPhotosSold  TotalRiders  ProportionSold\n",
      "Condition                                               \n",
      "FR                      140        28224        0.004960\n",
      "FR Charity              180        30592        0.005884\n"
     ]
    },
    {
     "name": "stderr",
     "output_type": "stream",
     "text": [
      "/tmp/ipykernel_89277/123274009.py:5: SettingWithCopyWarning: \n",
      "A value is trying to be set on a copy of a slice from a DataFrame.\n",
      "Try using .loc[row_indexer,col_indexer] = value instead\n",
      "\n",
      "See the caveats in the documentation: https://pandas.pydata.org/pandas-docs/stable/user_guide/indexing.html#returning-a-view-versus-a-copy\n",
      "  fr_data['ProportionSold'] = fr_data['NumberSold'] / fr_data['Riders']\n"
     ]
    }
   ],
   "source": [
    "# Calculate the proportion of photos sold in each flat-rate condition (FR and FR Charity)\n",
    "fr_data = df1[df1['Condition'].isin(['FR', 'FR Charity'])]\n",
    "\n",
    "# Calculate proportions\n",
    "fr_data['ProportionSold'] = fr_data['NumberSold'] / fr_data['Riders']\n",
    "\n",
    "# Separate the proportions for FR and FR Charity\n",
    "fr_proportion = fr_data[fr_data['Condition'] == 'FR']['ProportionSold'].mean()\n",
    "fr_charity_proportion = fr_data[fr_data['Condition'] == 'FR Charity']['ProportionSold'].mean()\n",
    "\n",
    "# Get the total number of riders for both FR and FR Charity\n",
    "n_fr = fr_data[fr_data['Condition'] == 'FR']['Riders'].sum()\n",
    "n_fr_charity = fr_data[fr_data['Condition'] == 'FR Charity']['Riders'].sum()\n",
    "\n",
    "fr_data_grouped = df1[df1['Condition'].isin(['FR', 'FR Charity'])].groupby('Condition').agg(\n",
    "    TotalPhotosSold=('NumberSold', 'sum'),\n",
    "    TotalRiders=('Riders', 'sum'))\n",
    "\n",
    "# Calculate the proportion of photos sold (TotalPhotosSold / TotalRiders)\n",
    "fr_data_grouped['ProportionSold'] = fr_data_grouped['TotalPhotosSold'] / fr_data_grouped['TotalRiders']\n",
    "\n",
    "# Display the calculated proportions and sample sizes for both FR and FR Charity\n",
    "print(fr_data_grouped)"
   ]
  },
  {
   "cell_type": "code",
   "execution_count": 5,
   "metadata": {},
   "outputs": [
    {
     "name": "stdout",
     "output_type": "stream",
     "text": [
      "Z-statistic: -1.3199521668163439\n"
     ]
    }
   ],
   "source": [
    "# Calculate the z-score test statistic for the difference between two population proportions\n",
    "z = (fr_proportion - fr_charity_proportion) / np.sqrt(((fr_proportion * (1 - fr_proportion)) / n_fr) + ((fr_charity_proportion * (1 - fr_charity_proportion)) / n_fr_charity))\n",
    "\n",
    "print(f\"Z-statistic: {z}\")"
   ]
  },
  {
   "cell_type": "code",
   "execution_count": 6,
   "metadata": {},
   "outputs": [
    {
     "name": "stdout",
     "output_type": "stream",
     "text": [
      "P-value: 0.18685098875148087\n"
     ]
    }
   ],
   "source": [
    "# Calculate two-sided p-value\n",
    "p_value = 2 * (1 - norm.cdf(abs(z)))\n",
    "\n",
    "print(f\"P-value: {p_value}\")"
   ]
  },
  {
   "cell_type": "markdown",
   "metadata": {},
   "source": [
    "The z-statistic is 1.31995, and the corresponding p-value is approximately 0.187\n",
    "\n",
    "Since the p-value is greater than the significance level of 0.05, we fail to reject the null hypothesis. This means that, at the 5% significance level, there is no statistically significant difference between the proportion of photo purchases in the FR condition and the FR Charity condition.\n",
    "\n"
   ]
  },
  {
   "cell_type": "markdown",
   "metadata": {},
   "source": [
    "### NYOP Pricing\n",
    "Here, we are using the NYOP.csv datast: This dataset contains more specific information related to the NYOP and NYOP Charity conditions. Each row represents the purchasing behavior of a rider who made a purchase. Information on the condition of the rider, the number of photos purchased, and the price chosen by the rider have been collected.\n",
    "\n",
    "It has the following variables:\n",
    "1. Condition = A factor with two levels, NYOP and NYOP Charity, capturing any rider who was in one of the two Name Your Own Price conditions\n",
    "2. Number = The total number of photos purchased by a given rider\n",
    "3. Price = The price chosen by the rider and paid in US dollars."
   ]
  },
  {
   "cell_type": "code",
   "execution_count": 7,
   "metadata": {},
   "outputs": [],
   "source": [
    "# Importing the dataset\n",
    "nyop_data=pd.read_csv('data/NYOP.csv')"
   ]
  },
  {
   "cell_type": "code",
   "execution_count": 9,
   "metadata": {},
   "outputs": [
    {
     "data": {
      "text/html": [
       "<div>\n",
       "<style scoped>\n",
       "    .dataframe tbody tr th:only-of-type {\n",
       "        vertical-align: middle;\n",
       "    }\n",
       "\n",
       "    .dataframe tbody tr th {\n",
       "        vertical-align: top;\n",
       "    }\n",
       "\n",
       "    .dataframe thead th {\n",
       "        text-align: right;\n",
       "    }\n",
       "</style>\n",
       "<table border=\"1\" class=\"dataframe\">\n",
       "  <thead>\n",
       "    <tr style=\"text-align: right;\">\n",
       "      <th></th>\n",
       "      <th>TotalPhotosPurchased</th>\n",
       "      <th>TotalRiders</th>\n",
       "      <th>ProportionPurchased</th>\n",
       "    </tr>\n",
       "    <tr>\n",
       "      <th>Condition</th>\n",
       "      <th></th>\n",
       "      <th></th>\n",
       "      <th></th>\n",
       "    </tr>\n",
       "  </thead>\n",
       "  <tbody>\n",
       "    <tr>\n",
       "      <th>NYOP</th>\n",
       "      <td>2370</td>\n",
       "      <td>1641</td>\n",
       "      <td>1.444241</td>\n",
       "    </tr>\n",
       "    <tr>\n",
       "      <th>NYOP Charity</th>\n",
       "      <td>1793</td>\n",
       "      <td>1457</td>\n",
       "      <td>1.230611</td>\n",
       "    </tr>\n",
       "  </tbody>\n",
       "</table>\n",
       "</div>"
      ],
      "text/plain": [
       "              TotalPhotosPurchased  TotalRiders  ProportionPurchased\n",
       "Condition                                                           \n",
       "NYOP                          2370         1641             1.444241\n",
       "NYOP Charity                  1793         1457             1.230611"
      ]
     },
     "execution_count": 9,
     "metadata": {},
     "output_type": "execute_result"
    }
   ],
   "source": [
    "# Calculate the proportion of purchases for NYOP and NYOP Charity\n",
    "nyop_data_grouped = nyop_data.groupby('Condition').agg(\n",
    "    TotalPhotosPurchased=('Number', 'sum'),\n",
    "    TotalRiders=('Number', 'count')\n",
    ")\n",
    "\n",
    "# Calculate the proportion of photos purchased (TotalPhotosPurchased / TotalRiders)\n",
    "nyop_data_grouped['ProportionPurchased'] = nyop_data_grouped['TotalPhotosPurchased'] / nyop_data_grouped['TotalRiders']\n",
    "\n",
    "# Display the calculated proportions and sample sizes (riders) for both NYOP and NYOP Charity\n",
    "nyop_data_grouped# Load the NYOP.csv dataset\n",
    "nyop_data=pd.read_csv('data/NYOP.csv')\n",
    "\n",
    "# Calculate the proportion of purchases for NYOP and NYOP Charity\n",
    "nyop_data_grouped = nyop_data.groupby('Condition').agg(\n",
    "    TotalPhotosPurchased=('Number', 'sum'),\n",
    "    TotalRiders=('Number', 'count')\n",
    ")\n",
    "\n",
    "# Calculate the proportion of photos purchased (TotalPhotosPurchased / TotalRiders)\n",
    "nyop_data_grouped['ProportionPurchased'] = nyop_data_grouped['TotalPhotosPurchased'] / nyop_data_grouped['TotalRiders']\n",
    "\n",
    "# Display the calculated proportions and sample sizes (riders) for both NYOP and NYOP Charity\n",
    "nyop_data_grouped"
   ]
  },
  {
   "cell_type": "code",
   "execution_count": 10,
   "metadata": {},
   "outputs": [
    {
     "name": "stdout",
     "output_type": "stream",
     "text": [
      "Z-statistic: -1.3199521668163439\n"
     ]
    }
   ],
   "source": [
    "# Calculate the z-score test statistic for the difference between two population proportions\n",
    "z1 = (1.444241 - 1.230611)/np.sqrt(((1.444241*0.444241)/1641) + ((1.230611*0.230611)/1457))\n",
    "\n",
    "print(f\"Z-statistic: {z}\")"
   ]
  },
  {
   "cell_type": "code",
   "execution_count": 11,
   "metadata": {},
   "outputs": [
    {
     "name": "stdout",
     "output_type": "stream",
     "text": [
      "P-value: 0.0\n"
     ]
    }
   ],
   "source": [
    "# Calculate two-sided p-value\n",
    "p_value = 2 * (1 - norm.cdf(abs(z1)))\n",
    "\n",
    "print(f\"P-value: {p_value}\")"
   ]
  },
  {
   "cell_type": "markdown",
   "metadata": {},
   "source": [
    "The z-value we obtained (8.83) suggests a very large difference between the two proportions. The p-value is effectively 0. This means that the probability of observing such a large difference between the two proportions by random chance is extremely low.\n",
    "\n",
    "A p-value of 0 (or a very small number close to 0) indicates that there is very strong evidence against the null hypothesis which means that the result is highly significant at the 5% level (and well beyond). At the 5% significance level (or any reasonable significance level), we would reject the null hypothesis. This suggests that there is a statistically significant difference between the proportion of purchases in the NYOP and NYOP Charity conditions.\n"
   ]
  },
  {
   "cell_type": "markdown",
   "metadata": {},
   "source": [
    "### NYOP Part-2"
   ]
  },
  {
   "cell_type": "markdown",
   "metadata": {},
   "source": [
    "A. Load “NYOP.csv”. Create a variable called UnitPrice which takes the variable, Price, and divides it by Number. After doing so, next change the type of the variable, Number, to a factor variable."
   ]
  },
  {
   "cell_type": "code",
   "execution_count": 13,
   "metadata": {},
   "outputs": [],
   "source": [
    "# Load the data\n",
    "data = pd.read_csv('data/NYOP.csv')\n",
    "\n",
    "# Create UnitPrice variable\n",
    "data['UnitPrice'] = data['Price'] / data['Number']\n",
    "data['Number'] = data['Number'].astype('category')"
   ]
  },
  {
   "cell_type": "markdown",
   "metadata": {},
   "source": [
    "B. Visualize both Price and UnitPrice against the factor variable, Number by creating box plots and interpreting them."
   ]
  },
  {
   "cell_type": "code",
   "execution_count": 14,
   "metadata": {},
   "outputs": [
    {
     "data": {
      "image/png": "[encoded data removed]",
      "text/plain": [
       "<Figure size 1200x600 with 2 Axes>"
      ]
     },
     "metadata": {},
     "output_type": "display_data"
    }
   ],
   "source": [
    "# Set the style\n",
    "sns.set(style=\"whitegrid\")\n",
    "\n",
    "# Create box plots\n",
    "plt.figure(figsize=(12, 6))\n",
    "\n",
    "# Box plot for Price\n",
    "plt.subplot(1, 2, 1)\n",
    "sns.boxplot(x='Number', y='Price', data=data)\n",
    "plt.title('Box Plot of Price by Number')\n",
    "plt.xlabel('Number')\n",
    "plt.ylabel('Price')\n",
    "\n",
    "# Box plot for UnitPrice\n",
    "plt.subplot(1, 2, 2)\n",
    "sns.boxplot(x='Number', y='UnitPrice', data=data)\n",
    "plt.title('Box Plot of UnitPrice by Number')\n",
    "plt.xlabel('Number')\n",
    "plt.ylabel('Unit Price')\n",
    "\n",
    "plt.tight_layout()\n",
    "plt.show()"
   ]
  },
  {
   "cell_type": "markdown",
   "metadata": {},
   "source": [
    "C. Determine the average unit purchase price for both the NYOP and the NYOP Charity conditions. Does the difference seem small or substantial? Formulate a statistical test to determine if these two average unit prices are different."
   ]
  },
  {
   "cell_type": "code",
   "execution_count": 15,
   "metadata": {},
   "outputs": [
    {
     "name": "stdout",
     "output_type": "stream",
     "text": [
      "      Condition     Price\n",
      "0          NYOP  1.325899\n",
      "1  NYOP Charity  6.600075\n",
      "Difference in averages: 5.274176655428395\n",
      "T-statistic: -34.76498966310979, P-value: 8.444791447155631e-200\n"
     ]
    }
   ],
   "source": [
    "from scipy import stats\n",
    "\n",
    "# Calculate average unit prices\n",
    "average_prices = data.groupby('Condition')['Price'].mean().reset_index()\n",
    "print(average_prices)\n",
    "\n",
    "# Calculate the difference in averages\n",
    "diff = average_prices['Price'].diff().abs()\n",
    "print(f'Difference in averages: {diff.iloc[1]}')\n",
    "\n",
    "nyop = data[data['Condition'] == 'NYOP']['Price']\n",
    "nyop_charity = data[data['Condition'] == 'NYOP Charity']['Price']\n",
    "\n",
    "# Perform Welch's t-test (assuming variances may be unequal)\n",
    "t_stat, p_value = stats.ttest_ind(nyop, nyop_charity, equal_var=False)\n",
    "\n",
    "print(f\"T-statistic: {t_stat}, P-value: {p_value}\")"
   ]
  },
  {
   "cell_type": "markdown",
   "metadata": {},
   "source": [
    "If the p-value is less than 0.05, you conclude that the average unit prices for NYOP and NYOP Charity are significantly different. Hence, the difference in average is statistically significant.\n",
    "\n",
    "If the p-value is greater than 0.05, the difference in averages is not statistically significant. Here, we can conclude that P-value: 3.95 > 0.05."
   ]
  },
  {
   "cell_type": "markdown",
   "metadata": {},
   "source": [
    "D. What are your null and alternative hypotheses?"
   ]
  },
  {
   "cell_type": "code",
   "execution_count": 26,
   "metadata": {},
   "outputs": [
    {
     "name": "stdout",
     "output_type": "stream",
     "text": [
      "H0: There is no difference in average unit prices between NYOP and NYOP Charity.\n",
      "Ha: There is a difference in average unit prices between NYOP and NYOP Charity.\n"
     ]
    }
   ],
   "source": [
    "print('H0: There is no difference in average unit prices between NYOP and NYOP Charity.')\n",
    "print('Ha: There is a difference in average unit prices between NYOP and NYOP Charity.')"
   ]
  },
  {
   "cell_type": "markdown",
   "metadata": {},
   "source": [
    "E. Use the pyrsm library to perform the test computation (Compare means). What can you conclude? What is the likelihood you have made either a Type I or Type II error based on your conclusion?"
   ]
  },
  {
   "cell_type": "code",
   "execution_count": 29,
   "metadata": {},
   "outputs": [
    {
     "name": "stdout",
     "output_type": "stream",
     "text": [
      "Pairwise mean comparisons (t-test)\n",
      "Data      : data\n",
      "Variables : variable, value\n",
      "Samples   : independent\n",
      "Confidence: 0.95\n",
      "Adjustment: None\n",
      "           variable  mean    n  n_missing    sd    se    me\n",
      "nyop_charity_prices  5.68 1457       1641 4.670 0.122 0.240\n",
      "        nyop_prices  1.04 1641       1457 1.305 0.032 0.063\n",
      "                        Null hyp.                                    Alt. hyp.  diff p.value    \n",
      "nyop_charity_prices = nyop_prices nyop_charity_prices not equal to nyop_prices  4.64  < .001 ***\n",
      "\n",
      "Signif. codes:  0 '***' 0.001 '**' 0.01 '*' 0.05 '.' 0.1 ' ' 1\n"
     ]
    }
   ],
   "source": [
    "# Load the data\n",
    "data = pd.read_csv(\"NYOP.csv\")\n",
    "\n",
    "# Create UnitPrice variable\n",
    "data['UnitPrice'] = data['Price'] / data['Number']\n",
    "\n",
    "# Filter for the two conditions\n",
    "data['nyop_prices'] = data[data['Condition'] == 'NYOP']['UnitPrice']\n",
    "data['nyop_charity_prices'] = data[data['Condition'] == 'NYOP Charity']['UnitPrice']\n",
    "\n",
    "# Perform the means comparison\n",
    "cm = rsm.basics.compare_means(data={\"data\":data}, var1='nyop_prices', var2='nyop_charity_prices')\n",
    "\n",
    "# Display results\n",
    "cm.summary()\n"
   ]
  },
  {
   "cell_type": "markdown",
   "metadata": {},
   "source": [
    "From the output of the pairwise mean comparisons using the t-test, we can observe that the difference in means between the NYOP (Name Your Own Price) and NYOP Charity conditions is statistically significant. Here are the key results:\n",
    "\n",
    "Mean of NYOP Prices: 1.04\n",
    "Mean of NYOP Charity Prices: 5.68\n",
    "Difference in Means: 4.64\n",
    "p-value: < 0.001, which indicates a highly significant difference.\n",
    "\n",
    "Since the p-value is extremely small (less than 0.001), we reject the null hypothesis that the mean prices for NYOP and NYOP Charity are equal. This means that there is strong evidence that the average price customers chose to pay under the NYOP Charity condition is significantly higher than the price under the NYOP condition.\n",
    "\n",
    "The magnitude of the difference (4.64) suggests that the charitable component has a substantial effect on the amount customers are willing to pay."
   ]
  },
  {
   "cell_type": "markdown",
   "metadata": {},
   "source": [
    "F. Use filtering to investigate the difference in means for people that purchased 1 picture. Similarly, do the analysis for the group that purchased 6 pictures. Discuss your observations."
   ]
  },
  {
   "cell_type": "code",
   "execution_count": 18,
   "metadata": {},
   "outputs": [
    {
     "name": "stdout",
     "output_type": "stream",
     "text": [
      "Average Unit Price for 1 Picture:\n",
      "      Condition     Price\n",
      "0          NYOP  1.176523\n",
      "1  NYOP Charity  5.941155\n",
      "Average Unit Price for 6 Pictures:\n",
      "      Condition  Price\n",
      "0          NYOP   2.97\n",
      "1  NYOP Charity  11.82\n"
     ]
    }
   ],
   "source": [
    "# Investigate the group that purchased 1 picture\n",
    "one_picture = data[data['Number'] == 1].groupby('Condition')['Price'].mean().reset_index()\n",
    "\n",
    "# Investigate the group that purchased 6 pictures\n",
    "six_pictures = data[data['Number'] == 6].groupby('Condition')['Price'].mean().reset_index()\n",
    "\n",
    "print(\"Average Unit Price for 1 Picture:\")\n",
    "print(one_picture)\n",
    "\n",
    "print(\"Average Unit Price for 6 Pictures:\")\n",
    "print(six_pictures)"
   ]
  },
  {
   "cell_type": "markdown",
   "metadata": {},
   "source": [
    "G. If you do the analysis by hand for the group that purchased 6 pictures are your results the same as those produced above? Why or Why not?"
   ]
  },
  {
   "cell_type": "code",
   "execution_count": 21,
   "metadata": {},
   "outputs": [
    {
     "name": "stdout",
     "output_type": "stream",
     "text": [
      "Average Unit Price for NYOP Condition: 0.49499999999999994\n",
      "Average Unit Price for NYOP Charity Condition: 1.97\n",
      "T-statistic: -1.3830917803702296\n",
      "Degrees of Freedom: 2.238711549258564\n",
      "P-value: 0.2884114566627224\n"
     ]
    }
   ],
   "source": [
    "# Separate NYOP and NYOP Charity\n",
    "six_nyop_col = data[data['Number'] == 6].groupby('Condition')['UnitPrice'].mean()\n",
    "\n",
    "# Means\n",
    "NYOP_Cond = six_nyop_col.iloc[0]\n",
    "NYOP_char_Cond = six_nyop_col.iloc[1]\n",
    "print(f\"Average Unit Price for NYOP Condition: {NYOP_Cond}\")\n",
    "print(f\"Average Unit Price for NYOP Charity Condition: {NYOP_char_Cond}\")\n",
    "\n",
    "# Filter data for NYOP and NYOP Charity conditions with 6 pictures\n",
    "n_nyop = data[(data['Number'] == 6) & (data['Condition'] == 'NYOP')]\n",
    "n_nyop_char = data[(data['Number'] == 6) & (data['Condition'] == 'NYOP Charity')]\n",
    "\n",
    "# NYOP\n",
    "n1 = len(n_nyop)\n",
    "# Variance of NYOP\n",
    "var1 = sum((x - NYOP_Cond)**2 for x in n_nyop['UnitPrice']) / (n1 - 1)\n",
    "\n",
    "# NYOP Charity\n",
    "n2 = len(n_nyop_char)\n",
    "# Variance for NYOP Charity\n",
    "var2 = sum((x - NYOP_char_Cond)**2 for x in n_nyop_char['UnitPrice']) / (n2 - 1)\n",
    "\n",
    "# Calculate t-statistic\n",
    "t_stat = (NYOP_Cond - NYOP_char_Cond) / ((var1 / n1) + (var2 / n2))**0.5\n",
    "print(f\"T-statistic: {t_stat}\")\n",
    "\n",
    "# Calculate the degrees of freedom\n",
    "numerator = ((var1 / n1) + (var2 / n2))**2\n",
    "denominator = ((var1 / n1)**2 / (n1 - 1)) + ((var2 / n2)**2 / (n2 - 1))\n",
    "df = numerator / denominator\n",
    "print(f\"Degrees of Freedom: {df}\")\n",
    "\n",
    "# Calculate the p-value\n",
    "from scipy.stats import t\n",
    "p_value = t.sf(abs(t_stat), df) * 2  # Two-tailed test\n",
    "print(f\"P-value: {p_value}\")\n"
   ]
  },
  {
   "cell_type": "markdown",
   "metadata": {},
   "source": [
    "T-statistic: The difference between the means is small (about 1.38 standard errors away from 0), and the negative value shows the NYOP Charity group has a higher mean unit price than the NYOP group.\n",
    "\n",
    "P-value: Since the p-value is 0.288 (greater than 0.05), the difference between the two conditions is not statistically significant. Based on the data provided, we cannot confidently say that the difference in unit prices for the NYOP and NYOP Charity conditions for people purchasing 6 pictures is not due to random chance."
   ]
  },
  {
   "cell_type": "markdown",
   "metadata": {},
   "source": [
    "### Economics"
   ]
  },
  {
   "cell_type": "markdown",
   "metadata": {},
   "source": [
    "A. The unit cost of making a photo is $1.20. Compute the average daily profit under each of the four pricing strategies."
   ]
  },
  {
   "cell_type": "code",
   "execution_count": 31,
   "metadata": {},
   "outputs": [
    {
     "name": "stdout",
     "output_type": "stream",
     "text": [
      "Data for FR Pricing Strategy:\n",
      "  Condition  NumberSold  Riders  MerchandiseRevenues\n",
      "0        FR          77   12663              4592.41\n",
      "1        FR          63   15561              6688.57\n",
      "\n",
      "\n",
      "Data for FR Charity Pricing Strategy:\n",
      "    Condition  NumberSold  Riders  MerchandiseRevenues\n",
      "2  FR Charity          79   14796              6476.78\n",
      "3  FR Charity         101   15796              5845.94\n",
      "\n",
      "\n",
      "Data for NYOP Pricing Strategy:\n",
      "  Condition  NumberSold  Riders  MerchandiseRevenues\n",
      "4      NYOP        1137   14077              4845.27\n",
      "5      NYOP        1233   14186              7038.63\n",
      "\n",
      "\n",
      "Data for NYOP Charity Pricing Strategy:\n",
      "      Condition  NumberSold  Riders  MerchandiseRevenues\n",
      "6  NYOP Charity         539   12227              5690.59\n",
      "7  NYOP Charity         628   13741              6003.44\n",
      "8  NYOP Charity         626   18117              8557.47\n",
      "\n",
      "\n",
      "Average Daily Profits for Each Pricing Strategy:\n",
      "FR: $5556.49\n",
      "FR Charity: $6053.36\n",
      "NYOP: $4519.95\n",
      "NYOP Charity: $6033.30\n"
     ]
    },
    {
     "name": "stderr",
     "output_type": "stream",
     "text": [
      "/tmp/ipykernel_18015/3364817777.py:19: SettingWithCopyWarning: \n",
      "A value is trying to be set on a copy of a slice from a DataFrame.\n",
      "Try using .loc[row_indexer,col_indexer] = value instead\n",
      "\n",
      "See the caveats in the documentation: https://pandas.pydata.org/pandas-docs/stable/user_guide/indexing.html#returning-a-view-versus-a-copy\n",
      "  data['TotalCost'] = data['NumberSold'] * unit_cost\n",
      "/tmp/ipykernel_18015/3364817777.py:20: SettingWithCopyWarning: \n",
      "A value is trying to be set on a copy of a slice from a DataFrame.\n",
      "Try using .loc[row_indexer,col_indexer] = value instead\n",
      "\n",
      "See the caveats in the documentation: https://pandas.pydata.org/pandas-docs/stable/user_guide/indexing.html#returning-a-view-versus-a-copy\n",
      "  data['Profit'] = data['MerchandiseRevenues'] - data['TotalCost']\n",
      "/tmp/ipykernel_18015/3364817777.py:19: SettingWithCopyWarning: \n",
      "A value is trying to be set on a copy of a slice from a DataFrame.\n",
      "Try using .loc[row_indexer,col_indexer] = value instead\n",
      "\n",
      "See the caveats in the documentation: https://pandas.pydata.org/pandas-docs/stable/user_guide/indexing.html#returning-a-view-versus-a-copy\n",
      "  data['TotalCost'] = data['NumberSold'] * unit_cost\n",
      "/tmp/ipykernel_18015/3364817777.py:20: SettingWithCopyWarning: \n",
      "A value is trying to be set on a copy of a slice from a DataFrame.\n",
      "Try using .loc[row_indexer,col_indexer] = value instead\n",
      "\n",
      "See the caveats in the documentation: https://pandas.pydata.org/pandas-docs/stable/user_guide/indexing.html#returning-a-view-versus-a-copy\n",
      "  data['Profit'] = data['MerchandiseRevenues'] - data['TotalCost']\n",
      "/tmp/ipykernel_18015/3364817777.py:19: SettingWithCopyWarning: \n",
      "A value is trying to be set on a copy of a slice from a DataFrame.\n",
      "Try using .loc[row_indexer,col_indexer] = value instead\n",
      "\n",
      "See the caveats in the documentation: https://pandas.pydata.org/pandas-docs/stable/user_guide/indexing.html#returning-a-view-versus-a-copy\n",
      "  data['TotalCost'] = data['NumberSold'] * unit_cost\n",
      "/tmp/ipykernel_18015/3364817777.py:20: SettingWithCopyWarning: \n",
      "A value is trying to be set on a copy of a slice from a DataFrame.\n",
      "Try using .loc[row_indexer,col_indexer] = value instead\n",
      "\n",
      "See the caveats in the documentation: https://pandas.pydata.org/pandas-docs/stable/user_guide/indexing.html#returning-a-view-versus-a-copy\n",
      "  data['Profit'] = data['MerchandiseRevenues'] - data['TotalCost']\n",
      "/tmp/ipykernel_18015/3364817777.py:19: SettingWithCopyWarning: \n",
      "A value is trying to be set on a copy of a slice from a DataFrame.\n",
      "Try using .loc[row_indexer,col_indexer] = value instead\n",
      "\n",
      "See the caveats in the documentation: https://pandas.pydata.org/pandas-docs/stable/user_guide/indexing.html#returning-a-view-versus-a-copy\n",
      "  data['TotalCost'] = data['NumberSold'] * unit_cost\n",
      "/tmp/ipykernel_18015/3364817777.py:20: SettingWithCopyWarning: \n",
      "A value is trying to be set on a copy of a slice from a DataFrame.\n",
      "Try using .loc[row_indexer,col_indexer] = value instead\n",
      "\n",
      "See the caveats in the documentation: https://pandas.pydata.org/pandas-docs/stable/user_guide/indexing.html#returning-a-view-versus-a-copy\n",
      "  data['Profit'] = data['MerchandiseRevenues'] - data['TotalCost']\n"
     ]
    }
   ],
   "source": [
    "# Load the data\n",
    "sales_data = pd.read_csv(\"Sales.csv\")\n",
    "\n",
    "# Set the unit cost for making a photo\n",
    "unit_cost = 1.20\n",
    "\n",
    "# Display separate tables for each pricing strategy\n",
    "strategies = ['FR', 'FR Charity', 'NYOP', 'NYOP Charity']\n",
    "for strategy in strategies:\n",
    "    strategy_data = sales_data[sales_data['Condition'] == strategy]\n",
    "    print(f\"Data for {strategy} Pricing Strategy:\")\n",
    "    print(strategy_data)\n",
    "    print(\"\\n\")\n",
    "\n",
    "# Calculate the average daily profit for each strategy\n",
    "def calculate_profit(data, unit_cost):\n",
    "    # Total Revenue from Photos = MerchandiseRevenues\n",
    "    # Total Cost of Photos = NumberSold * unit_cost\n",
    "    data['TotalCost'] = data['NumberSold'] * unit_cost\n",
    "    data['Profit'] = data['MerchandiseRevenues'] - data['TotalCost']\n",
    "    return data['Profit'].mean()\n",
    "\n",
    "# Compute the average daily profit for each strategy\n",
    "profits = {}\n",
    "for strategy in strategies:\n",
    "    strategy_data = sales_data[sales_data['Condition'] == strategy]\n",
    "    avg_daily_profit = calculate_profit(strategy_data, unit_cost)\n",
    "    profits[strategy] = avg_daily_profit\n",
    "\n",
    "# Display the average daily profits for all pricing strategies\n",
    "print(\"Average Daily Profits for Each Pricing Strategy:\")\n",
    "for strategy, profit in profits.items():\n",
    "    print(f\"{strategy}: ${profit:.2f}\")\n"
   ]
  },
  {
   "cell_type": "markdown",
   "metadata": {},
   "source": [
    "The FR Charity strategy is the most profitable, with an average daily profit of $6,053.36, followed closely by NYOP Charity at $6,033.30. The standard FR strategy generates $5,556.49, while NYOP produces the lowest profit at $4,519.95."
   ]
  },
  {
   "cell_type": "markdown",
   "metadata": {},
   "source": [
    "B. Which strategy is the most profitable? What is the ranking of the strategies in terms of profits?"
   ]
  },
  {
   "cell_type": "code",
   "execution_count": 34,
   "metadata": {},
   "outputs": [
    {
     "name": "stdout",
     "output_type": "stream",
     "text": [
      "Ranking of strategies based on average daily profit:\n",
      "      Condition  TotalProfit\n",
      "1    FR Charity      6053.36\n",
      "3  NYOP Charity      6033.30\n",
      "0            FR      5556.49\n",
      "2          NYOP      4519.95\n"
     ]
    }
   ],
   "source": [
    "# Load the Sales data\n",
    "sales_data = pd.read_csv('Sales.csv')\n",
    "\n",
    "# We are given the Unit Cost\n",
    "unit_cost = 1.20\n",
    "\n",
    "# Calculate the total cost of photos for each strategy\n",
    "sales_data['TotalCost'] = sales_data['NumberSold'] * unit_cost\n",
    "\n",
    "# Calculate the profit for each strategy\n",
    "sales_data['Profit'] = sales_data['MerchandiseRevenues'] - sales_data['TotalCost']\n",
    "\n",
    "# Compute the average daily profit for each strategy by grouping by 'Condition'\n",
    "strategy_profits = sales_data.groupby('Condition').agg(\n",
    "    TotalPhotosSold=('NumberSold', 'sum'),\n",
    "    TotalRiders=('Riders', 'sum'),\n",
    "    TotalRevenue=('MerchandiseRevenues', 'sum'),\n",
    "    TotalCost=('TotalCost', 'sum'),\n",
    "    TotalProfit=('Profit', 'mean')).reset_index()\n",
    "\n",
    "# Sort by the total profit to rank strategies\n",
    "ranked_strategies = strategy_profits.sort_values(by='TotalProfit', ascending=False)\n",
    "\n",
    "# Display the ranking of the strategies\n",
    "print(\"Ranking of strategies based on average daily profit:\")\n",
    "print(ranked_strategies[['Condition', 'TotalProfit']])\n"
   ]
  },
  {
   "cell_type": "markdown",
   "metadata": {},
   "source": [
    "Charity-based strategies (FR Charity and NYOP Charity) significantly outperform their non-charity counterparts in terms of daily profit. This suggests that incorporating a charitable component increases customer willingness to spend, thereby boosting overall profitability. The FR Charity strategy leads in daily profit, suggesting that even with a fixed price, adding a charitable cause encourages higher sales or more frequent purchases, making it a powerful strategy for maximizing profit. FR and NYOP (non-charity strategies) generate less profit compared to their charity-based counterparts, indicating that customers are more likely to spend when they know a portion of the revenue is going to a good cause. To maximize daily profits, the theme park should focus on implementing the FR Charity and NYOP Charity strategies. Both strategies generate significantly higher daily profits than non-charity options, while also enhancing the brand's social responsibility image, which may further incentivize customer engagement and loyalty."
   ]
  },
  {
   "cell_type": "markdown",
   "metadata": {},
   "source": [
    "C. Now think about the additional value created by the FR Charity and NYOP Charity conditions. Rather than focusing only on profits to the theme park, let’s talk about total profits to society which should include both the theme park and the charity that benefits. What is the ranking of societal profits in this case?"
   ]
  },
  {
   "cell_type": "code",
   "execution_count": 37,
   "metadata": {},
   "outputs": [
    {
     "name": "stdout",
     "output_type": "stream",
     "text": [
      "Ranking of strategies based on societal profits:\n",
      "      Condition  TotalSocietalProfit\n",
      "3  NYOP Charity              9408.55\n",
      "1    FR Charity              9134.04\n",
      "0            FR              5556.49\n",
      "2          NYOP              4519.95\n"
     ]
    },
    {
     "name": "stderr",
     "output_type": "stream",
     "text": [
      "/tmp/ipykernel_18015/2022357981.py:15: FutureWarning: Setting an item of incompatible dtype is deprecated and will raise an error in a future version of pandas. Value '[3238.39  2922.97  2845.295 3001.72  4278.735]' has dtype incompatible with int64, please explicitly cast to a compatible dtype first.\n",
      "  sales_data.loc[sales_data['Condition'].isin(['FR Charity', 'NYOP Charity']), 'CharityContribution'] = sales_data['MerchandiseRevenues'] * 0.50\n"
     ]
    }
   ],
   "source": [
    "# Load the Sales data\n",
    "sales_data = pd.read_csv('Sales.csv')\n",
    "\n",
    "# We are given the Unit Cost\n",
    "unit_cost = 1.20\n",
    "\n",
    "# Calculate the total cost of photos for each strategy\n",
    "sales_data['TotalCost'] = sales_data['NumberSold'] * unit_cost\n",
    "\n",
    "# Calculate the profit for each strategy\n",
    "sales_data['Profit'] = sales_data['MerchandiseRevenues'] - sales_data['TotalCost']\n",
    "\n",
    "# Calculate the contributions to charity for FR Charity and NYOP Charity (50% of revenues)\n",
    "sales_data['CharityContribution'] = 0\n",
    "sales_data.loc[sales_data['Condition'].isin(['FR Charity', 'NYOP Charity']), 'CharityContribution'] = sales_data['MerchandiseRevenues'] * 0.50\n",
    "\n",
    "# Calculate the total societal profit (Profit + CharityContribution)\n",
    "sales_data['TotalSocietalProfit'] = sales_data['Profit'] + sales_data['CharityContribution']\n",
    "\n",
    "# Compute the average daily societal profit for each strategy by grouping by 'Condition'\n",
    "societal_profits = sales_data.groupby('Condition').agg(\n",
    "    TotalPhotosSold=('NumberSold', 'sum'),\n",
    "    TotalRiders=('Riders', 'sum'),\n",
    "    TotalRevenue=('MerchandiseRevenues', 'sum'),\n",
    "    TotalCost=('TotalCost', 'sum'),\n",
    "    TotalProfit=('Profit', 'mean'),\n",
    "    CharityContribution=('CharityContribution', 'mean'),\n",
    "    TotalSocietalProfit=('TotalSocietalProfit', 'mean')\n",
    ").reset_index()\n",
    "\n",
    "# Sort by the total societal profit to rank strategies\n",
    "ranked_societal_strategies = societal_profits.sort_values(by='TotalSocietalProfit', ascending=False)\n",
    "\n",
    "# Display the ranking of the strategies based on societal profits\n",
    "print(\"Ranking of strategies based on societal profits:\")\n",
    "print(ranked_societal_strategies[['Condition', 'TotalSocietalProfit']])\n"
   ]
  },
  {
   "cell_type": "markdown",
   "metadata": {},
   "source": [
    "Charity-based strategies (NYOP Charity and FR Charity) clearly outperform non-charity strategies in terms of societal profit. This indicates that the introduction of a charitable component not only benefits the charity but also increases the willingness of customers to contribute more, leading to higher profits for the theme park. The NYOP Charity strategy proves to be the most effective, leveraging both flexible pricing and social responsibility to generate the highest total societal profit. FR and NYOP (non-charity strategies) generate significantly less societal profit, suggesting that focusing purely on maximizing revenue through pricing alone may not be as effective as integrating socially responsible elements.\n",
    "\n",
    "The theme park should prioritize the NYOP Charity and FR Charity strategies to maximize societal impact while maintaining profitability. These strategies not only drive higher profits but also align with modern consumers' increasing preference for socially responsible business practices."
   ]
  },
  {
   "cell_type": "markdown",
   "metadata": {},
   "source": [
    "D. How much additional societal profit does the leading strategy generate over the others over the entire year (assume 365 days)?\n"
   ]
  },
  {
   "cell_type": "code",
   "execution_count": 38,
   "metadata": {},
   "outputs": [
    {
     "name": "stdout",
     "output_type": "stream",
     "text": [
      "Yearly Societal Profits and Additional Profit of the Leading Strategy Over Others:\n",
      "      Condition  YearlySocietalProfit  AdditionalProfitOverOthers\n",
      "3  NYOP Charity            3434120.75                        0.00\n",
      "1    FR Charity            3333924.60                   100196.15\n",
      "0            FR            2028118.85                  1406001.90\n",
      "2          NYOP            1649781.75                  1784339.00\n"
     ]
    }
   ],
   "source": [
    "# Set the number of days in a year\n",
    "days_in_year = 365\n",
    "\n",
    "# Calculate the yearly societal profit for each strategy\n",
    "ranked_societal_strategies['YearlySocietalProfit'] = ranked_societal_strategies['TotalSocietalProfit'] * days_in_year\n",
    "\n",
    "# Identify the leading strategy (highest yearly societal profit)\n",
    "leading_strategy_profit = ranked_societal_strategies['YearlySocietalProfit'].max()\n",
    "\n",
    "# Calculate the additional societal profit of the leading strategy over each of the others\n",
    "ranked_societal_strategies['AdditionalProfitOverOthers'] = leading_strategy_profit - ranked_societal_strategies['YearlySocietalProfit']\n",
    "\n",
    "# Display the yearly societal profits and additional profit over others\n",
    "print(\"Yearly Societal Profits and Additional Profit of the Leading Strategy Over Others:\")\n",
    "print(ranked_societal_strategies[['Condition', 'YearlySocietalProfit', 'AdditionalProfitOverOthers']])\n"
   ]
  },
  {
   "cell_type": "markdown",
   "metadata": {},
   "source": [
    "NYOP Charity is clearly the most beneficial strategy in terms of societal profit, outperforming all others. Both charity-based strategies (NYOP Charity and FR Charity) outperform their non-charity counterparts by a significant margin. The large difference between NYOP Charity and the other strategies highlights the powerful effect of combining a flexible pricing model with a charitable cause. The theme park should prioritize the NYOP Charity strategy, as it generates the highest societal profit, benefiting both the park and the charity."
   ]
  },
  {
   "cell_type": "markdown",
   "metadata": {},
   "source": [
    "\n",
    "E. Are merchandise sales a concern?"
   ]
  },
  {
   "cell_type": "code",
   "execution_count": 40,
   "metadata": {},
   "outputs": [
    {
     "name": "stdout",
     "output_type": "stream",
     "text": [
      "Merchandise Sales Analysis by Pricing Strategy:\n",
      "      Condition  TotalMerchandiseRevenues  \\\n",
      "0            FR                  11280.98   \n",
      "1    FR Charity                  12322.72   \n",
      "2          NYOP                  11883.90   \n",
      "3  NYOP Charity                  20251.50   \n",
      "\n",
      "   AverageMerchandiseContributionToProfit  TotalProfit  \n",
      "0                                1.015983     11112.98  \n",
      "1                                1.018013     12106.72  \n",
      "2                                1.329066      9039.90  \n",
      "3                                1.122671     18099.90  \n"
     ]
    }
   ],
   "source": [
    "# Calculate the percentage of total revenue coming from merchandise sales\n",
    "sales_data['MerchandiseProfitProportion'] = sales_data['MerchandiseRevenues'] / sales_data['Profit']\n",
    "\n",
    "# Group by Condition to see the average merchandise contribution to profit for each strategy\n",
    "merchandise_analysis = sales_data.groupby('Condition').agg(\n",
    "    TotalMerchandiseRevenues=('MerchandiseRevenues', 'sum'),\n",
    "    AverageMerchandiseContributionToProfit=('MerchandiseProfitProportion', 'mean'),\n",
    "    TotalProfit=('Profit', 'sum')\n",
    ").reset_index()\n",
    "\n",
    "# Display the results to assess whether merchandise sales are a concern\n",
    "print(\"Merchandise Sales Analysis by Pricing Strategy:\")\n",
    "print(merchandise_analysis)\n"
   ]
  },
  {
   "cell_type": "markdown",
   "metadata": {},
   "source": [
    "Merchandise sales are a significant concern for the FR and FR Charity strategies, where they account for around 80-85% of total profits. These strategies are heavily dependent on merchandise revenues, meaning any drop in merchandise sales could greatly impact overall profitability."
   ]
  }
 ],
 "metadata": {
  "kernelspec": {
   "display_name": "base",
   "language": "python",
   "name": "python3"
  },
  "language_info": {
   "codemirror_mode": {
    "name": "ipython",
    "version": 3
   },
   "file_extension": ".py",
   "mimetype": "text/x-python",
   "name": "python",
   "nbconvert_exporter": "python",
   "pygments_lexer": "ipython3",
   "version": "3.11.9"
  }
 },
 "nbformat": 4,
 "nbformat_minor": 2
}
